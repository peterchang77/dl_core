{
 "cells": [
  {
   "cell_type": "markdown",
   "metadata": {},
   "source": [
    "# Overview"
   ]
  },
  {
   "cell_type": "markdown",
   "metadata": {},
   "source": [
    "# Preparing Data Client"
   ]
  },
  {
   "cell_type": "markdown",
   "metadata": {},
   "source": [
    "# Creating Model"
   ]
  },
  {
   "cell_type": "code",
   "execution_count": null,
   "metadata": {},
   "outputs": [],
   "source": [
    "def create_block(x, filters, strides, **kwargs):\n",
    "\n",
    "    ACTIVATIONS = {\n",
    "        'relu': layers.ReLU,\n",
    "        'leaky': layers.LeakyReLU,\n",
    "        'none': lambda **kwargs : lambda x : x}\n",
    "\n",
    "    CONV_LAYERS = {\n",
    "        'conv2d': layers.Conv2D,\n",
    "        'conv3d': layers.Conv3D,\n",
    "        'conv2dt': layers.Conv2DTranspose,\n",
    "        'conv3dt': layers.Conv3DTranspose,\n",
    "        'none': lambda **kwargs : lambda x : x}\n",
    "\n",
    "    assert type(filters) is list\n",
    "    assert type(strides) is list\n",
    "\n",
    "    # --- Create arg dicts\n",
    "    kwargs_ = {\n",
    "        'kernel_size': 3,\n",
    "        'activations': 'leaky',\n",
    "        'conv_layers': 'conv3d',\n",
    "        'padding': 'same',\n",
    "        'kernel_initializer': 'he_normal'}\n",
    "\n",
    "    kwargs_.update(kwargs)\n",
    "\n",
    "    for k in kwargs_:\n",
    "        if type(kwargs_[k]) in [int, str]: \n",
    "            kwargs_[k] = [kwargs_[k]] * len(filters)\n",
    "\n",
    "    kwargs_['filters'] = filters\n",
    "    kwargs_['strides'] = strides \n",
    "\n",
    "    extract = lambda d, index : {k: v[index] for k, v in d.items()}\n",
    "    kwargs_ = [extract(kwargs_, i) for i in range(len(filters))]\n",
    "\n",
    "    for k in kwargs_:\n",
    "\n",
    "        conv_layer = k.pop('conv_layers')\n",
    "        activation = k.pop('activations')\n",
    "\n",
    "        assert conv_layer in CONV_LAYERS\n",
    "        assert activation in ACTIVATIONS\n",
    "\n",
    "        # --- Create convolutional layer\n",
    "        x = CONV_LAYERS[conv_layer](**k)(x)\n",
    "\n",
    "        # --- Create batch norm layer\n",
    "        x = layers.BatchNormalization()(x)\n",
    "\n",
    "        # --- Create activation layer\n",
    "        x = ACTIVATIONS[activation]()(x)\n",
    "\n",
    "    return x"
   ]
  },
  {
   "cell_type": "markdown",
   "metadata": {},
   "source": [
    "# Training"
   ]
  },
  {
   "cell_type": "markdown",
   "metadata": {},
   "source": [
    "# Prediction"
   ]
  }
 ],
 "metadata": {
  "kernelspec": {
   "display_name": "Python 3",
   "language": "python",
   "name": "python3"
  },
  "language_info": {
   "codemirror_mode": {
    "name": "ipython",
    "version": 3
   },
   "file_extension": ".py",
   "mimetype": "text/x-python",
   "name": "python",
   "nbconvert_exporter": "python",
   "pygments_lexer": "ipython3",
   "version": "3.6.9"
  }
 },
 "nbformat": 4,
 "nbformat_minor": 4
}
