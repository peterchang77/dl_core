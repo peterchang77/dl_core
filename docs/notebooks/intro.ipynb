{
 "cells": [
  {
   "cell_type": "markdown",
   "metadata": {},
   "source": [
    "# Overview\n",
    "\n",
    "In this tutorial we will introduce the new Tensorflow 2.0 / Keras\n",
    "API, as well as basic concepts related with neural networks.\n",
    "\n",
    "**Tensorflow 2.0\n",
    "API**\n",
    "\n",
    "* creating models: sequential and functional API\n",
    "* creating optimizers\n",
    "*\n",
    "creating loss functions\n",
    "* algorithm training\n",
    "\n",
    "**Multilayer Perceptron (MLPs)**\n",
    "*\n",
    "matrix multiplication\n",
    "* activation functions\n",
    "\n",
    "**Convolutional Neural Networks\n",
    "(CNNs)**\n",
    "\n",
    "* convolutional operations\n",
    "* spatial downsampling\n",
    "\n",
    "*Advanced Topics*\n",
    "*\n",
    "batch normalization\n",
    "* weight regularization\n",
    "* advanced activation functions\n",
    "*\n",
    "custom loss functions\n",
    "* custom metrics\n",
    "\n",
    "# Tensorflow 2.0 API\n",
    "\n",
    "Tensorflow is a\n",
    "free and open-source software library\n",
    "developed by the Google Brain team for\n",
    "dataflow and differentiable programming\n",
    "across a range of tasks. It is a\n",
    "symbolic math library, and is most popularly\n",
    "used for machine learning\n",
    "applications such as neural networks. In November\n",
    "2019, the first stable release\n",
    "of the verson 2.0 library was made available,\n",
    "with significant changes\n",
    "including:\n",
    "\n",
    "* formal integration of the high-level\n",
    "Keras API for easy model\n",
    "building\n",
    "* `eager execution` of code, eliminating the\n",
    "need to manually compile\n",
    "an abstract syntax tree using a `session.run()` call\n",
    "*\n",
    "improved support for\n",
    "model deployment in production on any platform\n",
    "* improved\n",
    "support for\n",
    "distributed machine learning paradigms\n",
    "\n",
    "More information\n",
    "highlighting the key\n",
    "improvements can be found here:\n",
    "https://www.tensorflow.org/guide/effective_tf2\n",
    "## Import\n",
    "\n",
    "In this tutorial we\n",
    "will use the following Numpy and Tensorflow\n",
    "library components:"
   ]
  },
  {
   "cell_type": "code",
   "execution_count": null,
   "metadata": {},
   "outputs": [],
   "source": [
    "import numpy as np\n",
    "from tensorflow import losses, optimizers\n",
    "from tensorflow.keras import Input, Model, models, layers"
   ]
  },
  {
   "cell_type": "markdown",
   "metadata": {},
   "source": [
    "## Overview of Keras\n",
    "\n",
    "To develop a model using the Tensorflow/Keras API, we need\n",
    "to define two key objects: a Keras `model` and a Keras `layer`. After a `model`\n",
    "has been created with multiple `layers` the model needs to be *compiled* prior\n",
    "to algorithm *training*. In the following sections, we will introduce these key\n",
    "concepts then show how to instatiate and use these objects in Python.\n",
    "**NOTE**:\n",
    "We will be introducing *concepts* in these tutorial without any formal\n",
    "dataset\n",
    "for algorithm training and evalulation. See subsequent tutorials for\n",
    "more\n",
    "detailed information and guides for training specific neural network\n",
    "architectures on various datasets.\n",
    "\n",
    "### Keras models \n",
    "\n",
    "A Keras `model` is a\n",
    "high-level object that encapsulates and\n",
    "organizes one or multiple Keras\n",
    "`layers`. There are two main types of models\n",
    "available in Keras: the\n",
    "`Sequential` model, and the `Model` class used with the\n",
    "functional API.\n",
    "\n",
    "All\n",
    "Keras models have a number of methods and attributes in\n",
    "common:\n",
    "\n",
    "*\n",
    "`model.layers` is a flattened list of the layers comprising the model\n",
    "*\n",
    "`model.inputs` is the list of input tensors of the model\n",
    "* `model.outputs` is\n",
    "the list of output tensors of the model\n",
    "* `model.summary()` prints a summary\n",
    "representation of your model\n",
    "\n",
    "In addition there are a number of key methods used\n",
    "to pass data through the model during training and inference:\n",
    "\n",
    "* `model.fit()`\n",
    "is used to train a model with data\n",
    "* `model.evaluate()` is used to evaluate moel\n",
    "performance\n",
    "* `model.predict()` is used to pass new data to a trained network\n",
    "More information can be found here: https://keras.io/models/about-keras-models/\n",
    "### Keras layers\n",
    "\n",
    "A Keras `layer` is a `callable` Python object that represents\n",
    "functionality for a single layer in a neural network model. All Keras layers\n",
    "have a number of methods in common:\n",
    "\n",
    "* `layer.get_weights()` returns the weights\n",
    "of the layer as a list of Numpy arrays\n",
    "* `layer.set_weights(weights)` sets the\n",
    "weights of the layer from a list of Numpy arrays (with the same shapes as the\n",
    "output of get_weights)\n",
    "* `layer.get_config()` returns a dictionary containing\n",
    "the configuration of the layer"
   ]
  },
  {
   "cell_type": "code",
   "execution_count": null,
   "metadata": {},
   "outputs": [],
   "source": [
    "# --- Example of instantiating a new Keras layer object\n",
    "layer = layers.Dense(32)\n",
    "\n",
    "# --- Example of invoking a common layer method to get configurations\n",
    "print(type(layer))\n",
    "print(layer.get_config())"
   ]
  },
  {
   "cell_type": "markdown",
   "metadata": {},
   "source": [
    "More information can be found here: https://keras.io/layers/about-keras-layers/\n",
    "## Creating Models\n",
    "\n",
    "As described above, there are two primary ways to create a\n",
    "model using Tensorflow/Keras: the `Sequential` model and the functional API\n",
    "using the `Model` class. For maxmimum flexibility, we will use the functional\n",
    "API throughout all tutorials, however we will also demonstrate the `Sequential`\n",
    "model here for completeness.\n",
    "\n",
    "### Sequential Model\n",
    "\n",
    "The `Sequential` model\n",
    "allows you to define simple\n",
    "architectures layer-by-layer in a *sequential*\n",
    "manner. However this approach is\n",
    "limited in that it does not allow you to create\n",
    "models that share layers or have\n",
    "multiple inputs or outputs. Nonetheless for a\n",
    "conventional feed-forward neural\n",
    "network, this approach may be sufficient."
   ]
  },
  {
   "cell_type": "code",
   "execution_count": null,
   "metadata": {},
   "outputs": [],
   "source": [
    "# --- Option #1: add layer objects in list\n",
    "model = models.Sequential([\n",
    "    layers.Dense(32, input_shape=(784,)),\n",
    "    layers.ReLU(),\n",
    "    layers.Dense(10),\n",
    "    layers.Softmax()])"
   ]
  },
  {
   "cell_type": "code",
   "execution_count": null,
   "metadata": {},
   "outputs": [],
   "source": [
    "# --- Option #2: add layer objects using the add() method\n",
    "model = models.Sequential()\n",
    "model.add(layers.Dense(32, input_shape=(784,)))\n",
    "model.add(layers.ReLU())\n",
    "model.add(layers.Dense(10))\n",
    "model.add(layers.Softmax())"
   ]
  },
  {
   "cell_type": "code",
   "execution_count": null,
   "metadata": {},
   "outputs": [],
   "source": [
    "# --- Print summary of model architecture\n",
    "model.summary()"
   ]
  },
  {
   "cell_type": "markdown",
   "metadata": {},
   "source": [
    "### Functional API\n",
    "\n",
    "The functional API allows for a broader flexibility to model\n",
    "definition. To use, simply define an arbitrary graph structure by passing layers\n",
    "into one another until the entire network has been templated. Then, select one\n",
    "or multiple input(s) and one or multiple output(s) to pass as arguments into the\n",
    "`Model` class constructor."
   ]
  },
  {
   "cell_type": "code",
   "execution_count": null,
   "metadata": {},
   "outputs": [],
   "source": [
    "# --- Define graph by passing layers into one another\n",
    "inputs = Input(shape=(784,))\n",
    "x = layers.Dense(32)(inputs)\n",
    "x = layers.ReLU()(x)\n",
    "x = layers.Dense(10)(x)\n",
    "x = layers.Softmax()(x)\n",
    "\n",
    "# --- Define model by passing input(s) and output(s)\n",
    "model = Model(inputs=inputs, outputs=x)"
   ]
  },
  {
   "cell_type": "code",
   "execution_count": null,
   "metadata": {},
   "outputs": [],
   "source": [
    "# --- Print summary of model architecture\n",
    "model.summary()"
   ]
  },
  {
   "cell_type": "markdown",
   "metadata": {},
   "source": [
    "## Compiling a Model\n",
    "\n",
    "Now that our model has been defined, let us prepare our\n",
    "model for training. To\n",
    "do so we will need to formally **compile** the graph and\n",
    "define the training\n",
    "process using several key components (each represented by\n",
    "Keras Python objects):\n",
    "* loss function\n",
    "* optimizer\n",
    "* metric(s) (optional)\n",
    "\n",
    "###\n",
    "Defining a loss object\n",
    "\n",
    "Keras has a number of loss functions encapsulated by\n",
    "Python classes in the `tf.losses.*` module. The most commonly used include:\n",
    "\n",
    "*\n",
    "categorical cross entopy (classification tasks)\n",
    "* mean absolute or squared\n",
    "errors (regressions tasks)\n",
    "* Huber loss (many box algorithms)\n",
    "\n",
    "**IMPORTANT**: if\n",
    "you are training a classification task and your last model layer *does not*\n",
    "include an activation function (e.g. it represents raw logit scores) you must\n",
    "use the `from_logits=True` flag when defining you loss."
   ]
  },
  {
   "cell_type": "code",
   "execution_count": null,
   "metadata": {},
   "outputs": [],
   "source": [
    "# --- Define a MAE loss\n",
    "loss = losses.MeanAbsoluteError()\n",
    "\n",
    "# --- Define a categorical cross-entropy loss\n",
    "loss = losses.SparseCategoricalCrossentropy()"
   ]
  },
  {
   "cell_type": "markdown",
   "metadata": {},
   "source": [
    "### Defining an optimizer object\n",
    "\n",
    "Keras has a number of optimizer functions\n",
    "encapsulated by Python classes in the `tf.optimizers.*` module. The most\n",
    "commonly used include:\n",
    "\n",
    "* stochastic gradient descent\n",
    "* SGD + momentum\n",
    "* Adam\n",
    "(recommended by default)\n",
    "\n",
    "To instantiate a new optimizer object, simply pass the\n",
    "learning rate into the class constructor."
   ]
  },
  {
   "cell_type": "code",
   "execution_count": null,
   "metadata": {},
   "outputs": [],
   "source": [
    "# --- Define an SGD optimizer\n",
    "optimizer = optimizers.SGD(learning_rate=2e-4)\n",
    "\n",
    "# --- Define an Adam optimizer\n",
    "optimizer = optimizers.Adam(learning_rate=2e-4)"
   ]
  },
  {
   "cell_type": "markdown",
   "metadata": {},
   "source": [
    "### Defining a metric\n",
    "\n",
    "While losses are used by a neural network to guide\n",
    "optimization of model parameters, metrics are used by a human to gauage model\n",
    "performance in a more easily interpretable way. The most common metric for\n",
    "classification tasks is overall model `accuracy` (%). Other custom metrics can\n",
    "be defined as shown in advanced sections below.\n",
    "\n",
    "### Compiling\n",
    "\n",
    "Once the model\n",
    "`optimizer`, `loss` and `metric` have been\n",
    "defined, simply pass these objects\n",
    "into the `model.compile()` method to prepare\n",
    "for training:"
   ]
  },
  {
   "cell_type": "code",
   "execution_count": null,
   "metadata": {},
   "outputs": [],
   "source": [
    "# --- Compile model\n",
    "model.compile(\n",
    "    optimizer=optimizer,\n",
    "    loss=loss,\n",
    "    metrics=['accuracy'])"
   ]
  },
  {
   "cell_type": "markdown",
   "metadata": {},
   "source": [
    "The model is now compiled and ready for training! See subsequent tutorials for\n",
    "more detaisl.\n",
    "\n",
    "## Saving and Loading a Model\n",
    "\n",
    "After a model has been\n",
    "successfully trained, it\n",
    "can be saved and/or loaded by simply using the\n",
    "`model.save()` and\n",
    "`models.load_model()` methods. Note that any custom losses\n",
    "and/or metrics will\n",
    "need to be provided via a dictionary."
   ]
  },
  {
   "cell_type": "code",
   "execution_count": null,
   "metadata": {},
   "outputs": [],
   "source": [
    "# --- Serialize a model\n",
    "model.save('./intro.hdf5')"
   ]
  },
  {
   "cell_type": "code",
   "execution_count": null,
   "metadata": {},
   "outputs": [],
   "source": [
    "# --- Load a serialized model\n",
    "del model\n",
    "model = models.load_model('./intro.hdf5')"
   ]
  },
  {
   "cell_type": "code",
   "execution_count": null,
   "metadata": {},
   "outputs": [],
   "source": [
    "# --- Delete saved model\n",
    "import os\n",
    "os.remove('./intro.hdf5')"
   ]
  }
 ],
 "metadata": {},
 "nbformat": 4,
 "nbformat_minor": 2
}
