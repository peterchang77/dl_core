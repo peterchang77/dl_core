{
 "cells": [
  {
   "cell_type": "markdown",
   "metadata": {},
   "source": [
    "# Overview of Client\n",
    "\n",
    "The `Client()` object as part of the `dl_train.client`\n",
    "module provides a simple yet powerful interface for loading and preprocessing\n",
    "data in the context of neural network training. With a properly formatted\n",
    "`*.csv` file referencing data location, a `Client()` object can be initialized\n",
    "with nothing more than a simple `*.yml` configuration file. In this notebook we\n",
    "will explore the following functionality:\n",
    "\n",
    "**Configuration**\n",
    "\n",
    "* `*.csv` file\n",
    "format\n",
    "* `*.yml` file settings \n",
    "* rates\n",
    "* specs\n",
    "* split\n",
    "\n",
    "**Loading Data**\n",
    "\n",
    "* via\n",
    "`self.get(...)` method\n",
    "* via `self.generator(...)` method\n",
    "\n",
    "**Testing**\n",
    "\n",
    "* via\n",
    "`self.test(...)` method"
   ]
  },
  {
   "cell_type": "markdown",
   "metadata": {},
   "source": [
    "# Set Up\n",
    "\n",
    "Let us first set up the required imports and\n",
    "dependencies:"
   ]
  },
  {
   "cell_type": "code",
   "execution_count": null,
   "metadata": {},
   "outputs": [],
   "source": [
    "from dl_train.client import Client"
   ]
  },
  {
   "cell_type": "markdown",
   "metadata": {},
   "source": [
    "# Configuration\n",
    "\n",
    "A fully functional `Client()` object can be instantiated with a\n",
    "`*.yml` file containing the necessary configurations:"
   ]
  },
  {
   "cell_type": "code",
   "execution_count": null,
   "metadata": {},
   "outputs": [],
   "source": [
    "# --- Instantiate a new Client\n",
    "client = Client('./client.yml')"
   ]
  },
  {
   "cell_type": "markdown",
   "metadata": {},
   "source": [
    "The following shows the contents of the `./client.yml` file in the current directory:\n",
    "\n",
    "```yml\n",
    "_db: ../../../../dl_utils/data/bet/ymls/db.yml\n",
    "rates:\n",
    "  sampling:\n",
    "    fg: 0.5\n",
    "    bg: 0.5 \n",
    "  training:\n",
    "    train: 0.8\n",
    "    valid: 0.2\n",
    "specs:\n",
    "  batch: 16\n",
    "  xs:\n",
    "    dat:\n",
    "      dtype: float32\n",
    "      loads: dat\n",
    "      norms:\n",
    "        clip: \n",
    "          min: 0\n",
    "          max: 256\n",
    "        shift: 64\n",
    "        scale: 64\n",
    "      shape:\n",
    "      - 1\n",
    "      - 512\n",
    "      - 512\n",
    "      - 1\n",
    "  ys:\n",
    "    bet:\n",
    "      dtype: uint8\n",
    "      loads: bet \n",
    "      norms: null\n",
    "      shape:\n",
    "      - 1\n",
    "      - 512\n",
    "      - 512\n",
    "      - 1\n",
    "split: \n",
    "  fold: -1\n",
    "  cohorts:\n",
    "    fg: fg\n",
    "    bg: bg \n",
    "```\n",
    "\n",
    "Let us walk through this configuration file in detail."
   ]
  },
  {
   "cell_type": "markdown",
   "metadata": {},
   "source": [
    "## Database\n",
    "\n",
    "The prepared database file path is set as `_db` in the first line of the configuration file; it may be references as either a `*.csv` for `*.yml` file. See tutorial on generic database objects for further additional information.\n",
    "\n",
    "For the `Client()` object, a special database is required whereby **each row** in the `*.csv` file represents a unique signature for every training **example** in the dataset. For 3D datasets, this may yield a new row for every slice or slab in the entire volume (if the network is designed to train on a slice- or slab- basis). \n",
    "\n",
    "This schematic shows a representative `*.csv` file:\n",
    "\n",
    "```\n",
    "             fname-dat       fname-lbl       coord    bg      fg        mu      sd\n",
    "             \n",
    "patient_00   /path/to/file   /path/to/file   0.0      True    False     100.0   20.0\n",
    "patient_00   /path/to/file   /path/to/file   0.1      True    False     100.0   20.0\n",
    "patient_00   /path/to/file   /path/to/file   0.2      True    False     100.0   20.0\n",
    "patient_00   /path/to/file   /path/to/file   0.3      False   True      100.0   20.0\n",
    "patient_00   /path/to/file   /path/to/file   0.4      False   True      100.0   20.0\n",
    "patient_00   /path/to/file   /path/to/file   0.5      False   True      100.0   20.0\n",
    "...\n",
    "patient_00   /path/to/file   /path/to/file   1.0      True    False     100.0   20.0\n",
    "patient_01   /path/to/file   /path/to/file   0.0      True    False     150.0   25.0\n",
    "...\n",
    "\n",
    "```\n",
    "\n",
    "This format is consistent with the standard database object format (e.g. all columns containing filenames must be prefixed with `fname-`, the row indices represent patient studyids, etc). In addition, the following three types of header columns should be considered as needed:\n",
    "\n",
    "1. If you are using a 3D individual slice- or slab-based network, you will need to provide a column name `coord` that contains the **normalized** coordinate between `[0, 1]` for that slice- or slab- of data. \n",
    "\n",
    "2. If you are using any stratified sampling technique, you will need to create columns containing a boolean vector the corresponds to each individual cohort. In the example above, we have two cohorts (`bg` and `fg` which correspond to slices containing background and foreground mask values, respectively) for which we plan to sample from at balanced 50/50% distribution. Keep in mind that the defined cohorts **do not** need to be either mutually exclusive or inclusive of the entire dataset---they simply need to correspond to cohorts for which you plan to implement stratified sampling.  \n",
    "\n",
    "3. If you are using parameters for image preprocessing that cannot be dynamically inferred during data loading (e.g. the mean of the entire 3D volume when loading data in a slice-by-slice manner), you will need to create column(s) that contain the required information. Common  "
   ]
  },
  {
   "cell_type": "markdown",
   "metadata": {},
   "source": [
    "# Tear Down"
   ]
  },
  {
   "cell_type": "code",
   "execution_count": null,
   "metadata": {},
   "outputs": [],
   "source": []
  }
 ],
 "metadata": {
  "kernelspec": {
   "display_name": "Python 3",
   "language": "python",
   "name": "python3"
  },
  "language_info": {
   "codemirror_mode": {
    "name": "ipython",
    "version": 3
   },
   "file_extension": ".py",
   "mimetype": "text/x-python",
   "name": "python",
   "nbconvert_exporter": "python",
   "pygments_lexer": "ipython3",
   "version": "3.6.10"
  }
 },
 "nbformat": 4,
 "nbformat_minor": 4
}
