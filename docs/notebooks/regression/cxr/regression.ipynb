{
 "cells": [
  {
   "cell_type": "markdown",
   "metadata": {},
   "source": [
    "# Overview"
   ]
  },
  {
   "cell_type": "markdown",
   "metadata": {},
   "source": [
    "## Setting Up Your Environment\n",
    "\n",
    "In preparation for this tutorial we will need to set up the proper environment: \n",
    "\n",
    "* configure Google Colab\n",
    "* install custom libraries\n",
    "* download data\n",
    "* Python imports"
   ]
  },
  {
   "cell_type": "markdown",
   "metadata": {},
   "source": [
    "### Google Colab\n",
    "\n",
    "If you are running this tutorial in Google Colab, the first important thing to do is switch to a GPU-enabled runtime:\n",
    "\n",
    "```\n",
    "Runtime > Change runtime type > Hardware accelerator > GPU\n",
    "```\n",
    "\n",
    "Next we need to select and/or upgrade a few specific library versions. We will do this using the following Jupyter magic commands:"
   ]
  },
  {
   "cell_type": "code",
   "execution_count": null,
   "metadata": {},
   "outputs": [],
   "source": [
    "# --- Select Tensorflow 2.0, upgrade pyyaml (only in Google Colab)\n",
    "%tensorflow_version 2.x\n",
    "%pip install -U pyyaml"
   ]
  },
  {
   "cell_type": "markdown",
   "metadata": {},
   "source": [
    "### Custom libraries\n",
    "\n",
    "This tutorial will use several custom, external Python libraries to facilitate low-level data management, data visualization and other useful tools optimized for machine learning and other data science projects in healthcare. More information and additional tutorials may be found at the following GitHub repositories: \n",
    "\n",
    "* https://github.com/peterchang77/dl_train\n",
    "* https://github.com/peterchang77/dl_utils"
   ]
  },
  {
   "cell_type": "code",
   "execution_count": null,
   "metadata": {},
   "outputs": [],
   "source": [
    "# --- Install dl_utils and dl_train library\n",
    "!wget -O setenv.py https://raw.githubusercontent.com/peterchang77/dl_utils/master/setenv.py\n",
    "from setenv import prepare_env\n",
    "prepare_env()"
   ]
  },
  {
   "cell_type": "markdown",
   "metadata": {},
   "source": [
    "### Download data\n",
    "\n",
    "Next we will download and prepare data for this tutorial:"
   ]
  },
  {
   "cell_type": "code",
   "execution_count": null,
   "metadata": {},
   "outputs": [],
   "source": [
    "from dl_train import datasets\n",
    "datasets.download(name='cxr_ett')"
   ]
  },
  {
   "cell_type": "markdown",
   "metadata": {},
   "source": [
    "### Python imports \n",
    "\n",
    "The following modules will be used in this tutorial:"
   ]
  },
  {
   "cell_type": "code",
   "execution_count": null,
   "metadata": {},
   "outputs": [],
   "source": [
    "import glob, os\n",
    "import numpy as np\n",
    "\n",
    "from tensorflow.keras import Input, Model, layers, models, losses, optimizers\n",
    "from tensorflow import math\n",
    "\n",
    "from dl_utils.display import imshow"
   ]
  },
  {
   "cell_type": "markdown",
   "metadata": {},
   "source": [
    "# Data\n",
    "\n",
    "The data you have downloaded above contains preprocessed images and labels for this tutorial. To access the data, we will prepare Python generators (`gen_train` and `gen_valid`) using the custom `datasets` module. In addition, a custom `client` object will be created that will facilitate interaction with data.\n",
    "\n",
    "The `datasets.prepare(...)` method accepts a `configs` variable that defines:\n",
    "\n",
    "* `size`: training batch size\n",
    "* `fold`: fold to use for validation\n",
    "* `sampling`: stratified sampling strategy\n",
    "\n",
    "In this tutorial, we will use the following settings:"
   ]
  },
  {
   "cell_type": "code",
   "execution_count": null,
   "metadata": {},
   "outputs": [],
   "source": [
    "# --- Prepare Python generators\n",
    "gen_train, gen_valid, client = datasets.prepare(name='cxr_ett', configs={\n",
    "    'batch': {\n",
    "        'size': 8,           # ==> Use a batch size of 8\n",
    "        'fold': -1,          # ==> Use the first fold (=-1) for validation\n",
    "}})"
   ]
  },
  {
   "cell_type": "markdown",
   "metadata": {},
   "source": [
    "The returned Python generators yield a tuple `(xs, ys)` that conform to the Tensorflow / Keras 2.0 API for training input(s) and output(s). Let us take a closer look here:"
   ]
  },
  {
   "cell_type": "code",
   "execution_count": null,
   "metadata": {},
   "outputs": [],
   "source": [
    "# --- Yield the next batch\n",
    "xs, ys = next(gen_train)\n",
    "\n",
    "# --- Inspect xs and ys dictionaries\n",
    "print(xs.keys())\n",
    "print(ys.keys())\n",
    "\n",
    "# --- Inspect the `dat` array\n",
    "print(xs['dat'].shape)\n",
    "\n",
    "# --- Inspect the `carina-x` array\n",
    "print(ys['carina-x'].shape)\n",
    "print(ys['carina-x'].squeeze())"
   ]
  },
  {
   "cell_type": "markdown",
   "metadata": {},
   "source": [
    "### Visualization\n",
    "\n",
    "Let us now view the underlying voxel data using the `imshow()` method available in the custom `dl_utils.display` module. This useful function can be used to directly visualize any 2D slice of data (first argument), as well as overlay any mask if optionally provided (second argument). \n",
    "\n",
    "Example usage as follows:"
   ]
  },
  {
   "cell_type": "code",
   "execution_count": null,
   "metadata": {},
   "outputs": [],
   "source": [
    "def mask_from_coords(z, y, x, shape=(1, 256, 256), r=(0, 3, 3)):\n",
    "    \n",
    "    msk = np.zeros(shape, dtype='uint8')\n",
    "    \n",
    "    Z, Y, X = np.array(shape) - 1\n",
    "    z = int(np.round(z * Z))\n",
    "    y = int(np.round(y * Y))\n",
    "    x = int(np.round(x * X))\n",
    "    \n",
    "    msk[z-r[0]:z+r[0]+1, y-r[1]:y+r[1]+1, x-r[2]:x+r[2]+1] = 1\n",
    "    \n",
    "    return msk"
   ]
  },
  {
   "cell_type": "code",
   "execution_count": null,
   "metadata": {},
   "outputs": [],
   "source": [
    "# --- Create mask from normalized coordinates\n",
    "msk = np.zeros(xs['dat'].shape, dtype='uint8')\n",
    "for index, y, x in zip(np.arange(8), ys['carina-y'], ys['carina-x']):\n",
    "    msk[index, ..., 0] = mask_from_coords(z=0, y=y, x=x)\n",
    "    \n",
    "# --- Use imshow to visualize\n",
    "imshow(xs['dat'], msk, figsize=(12, 12))"
   ]
  },
  {
   "cell_type": "markdown",
   "metadata": {},
   "source": [
    "### Tensorflow / Keras Input() tensors"
   ]
  },
  {
   "cell_type": "markdown",
   "metadata": {},
   "source": [
    "Training input(s) are passed into a Tensorflow / Keras model via specific `Input()` objects, defined via `tf.keras.Input(...)`. For each input, the corresponding tensor `shape` and `dtype` should be defined. A convenience function as part of the custom `client` class can be used to generate corresponding `Input()` objects for all the arrays in `xs`:"
   ]
  },
  {
   "cell_type": "code",
   "execution_count": null,
   "metadata": {},
   "outputs": [],
   "source": [
    "# --- Create Input() objects\n",
    "inputs = client.get_inputs(Input)\n",
    "\n",
    "for key, i in inputs.items():\n",
    "    print('{}: {}'.format(key, i))"
   ]
  },
  {
   "cell_type": "markdown",
   "metadata": {},
   "source": [
    "# Model\n",
    "\n",
    "In this exercise, we will create a custom variant of the standard contracting-expanding netowrk topology, popularly referred to as a U-Net architecture. We will define the algorithm completely here in the next several code cells using the functional API of Tensorflow/Keras. For a more general overview of basic Tensorflow/Keras usage, see the following tutorial links (remote/local). "
   ]
  },
  {
   "cell_type": "markdown",
   "metadata": {},
   "source": [
    "## Creating a Convolutional Block\n",
    "\n",
    "To help facilitate concise and readable code, we will create template Python lambda functions to succintly define convolutional blocks, defined as the following series of consecutive operations:\n",
    "\n",
    "* convolution (or convolutional-transpose)\n",
    "* batch normalization\n",
    "* activation function (ReLU, leaky ReLU, etc)"
   ]
  },
  {
   "cell_type": "code",
   "execution_count": null,
   "metadata": {},
   "outputs": [],
   "source": [
    "# --- Define convolution parameters\n",
    "kwargs = {\n",
    "    'kernel_size': (1, 3, 3),\n",
    "    'padding': 'same',\n",
    "    'kernel_initializer': 'he_normal'}\n",
    "\n",
    "# --- Define block components\n",
    "conv = lambda x, filters, strides : layers.Conv3D(filters=filters, strides=strides, **kwargs)(x)\n",
    "norm = lambda x : layers.BatchNormalization()(x)\n",
    "relu = lambda x : layers.LeakyReLU()(x)\n",
    "\n",
    "# --- Define stride-1, stride-2 blocks\n",
    "conv1 = lambda filters, x : relu(norm(conv(x, filters, strides=1)))\n",
    "conv2 = lambda filters, x : relu(norm(conv(x, filters, strides=(1, 2, 2))))"
   ]
  },
  {
   "cell_type": "markdown",
   "metadata": {},
   "source": [
    "Now, we are ready to define the full model."
   ]
  },
  {
   "cell_type": "code",
   "execution_count": null,
   "metadata": {},
   "outputs": [],
   "source": [
    "def create_model(inputs):\n",
    "    \"\"\"\n",
    "    Method to create simple U-Net architecture\n",
    "\n",
    "    \"\"\"\n",
    "    # --- Define contracting layers\n",
    "    l1 = conv1(8, inputs['dat'])\n",
    "    l2 = conv1(16, conv2(16, l1))\n",
    "    l3 = conv1(32, conv2(32, l2))\n",
    "    l4 = conv1(48, conv2(48, l3))\n",
    "    l5 = conv1(64, conv2(64, l4))\n",
    "    l6 = conv1(80, conv2(80, l5))\n",
    "    \n",
    "    # --- Flatten\n",
    "    f0 = layers.Reshape((1, 1, 1, 8 * 8 * 80))(l6)\n",
    "\n",
    "    logits = {}\n",
    "    logits['carina-y'] = layers.Conv3D(filters=1, kernel_size=(1, 1, 1), activation='sigmoid', name='carina-y')(f0)\n",
    "    logits['carina-x'] = layers.Conv3D(filters=1, kernel_size=(1, 1, 1), activation='sigmoid', name='carina-x')(f0)\n",
    "\n",
    "    return Model(inputs=inputs, outputs=logits)"
   ]
  },
  {
   "cell_type": "code",
   "execution_count": null,
   "metadata": {},
   "outputs": [],
   "source": [
    "# --- Create model and show summary\n",
    "model = create_model(inputs)\n",
    "model.summary(line_length=120)"
   ]
  },
  {
   "cell_type": "markdown",
   "metadata": {},
   "source": [
    "## Preparing the Model\n",
    "\n",
    "Next, we must compile the model with the requisite objects that define training dynamics (e.g. how the algorithm with learn). This will include classes that encapsulate the model `optimizer` and `loss`."
   ]
  },
  {
   "cell_type": "code",
   "execution_count": null,
   "metadata": {},
   "outputs": [],
   "source": [
    "# --- Define optimizer\n",
    "optimizer = optimizers.Adam(learning_rate=2e-4)\n",
    "\n",
    "# --- Define loss\n",
    "loss = losses.MeanSquaredError()"
   ]
  },
  {
   "cell_type": "markdown",
   "metadata": {},
   "source": [
    "### Compile\n",
    "\n",
    "At last we are ready to compile the model. This is done simply with a call using the `model.compile()` method:"
   ]
  },
  {
   "cell_type": "code",
   "execution_count": null,
   "metadata": {},
   "outputs": [],
   "source": [
    "model.compile(\n",
    "    optimizer=optimizer,\n",
    "    loss=loss)"
   ]
  },
  {
   "cell_type": "markdown",
   "metadata": {},
   "source": [
    "# Training\n",
    "\n",
    "One of the primary advantages to the Tensorflow/Keras API is that by following the above \"recipe\" to customize, instantiate and compile a `model` object, several very easy-to-use interfaces are available for algorithm training. In this tutorial, we will use data prepared from Python generators (`gen_train` and `gen_valid` as above) to train the model using the `model.fit_generator()` method. Usage is shown as follows using a single line of code:"
   ]
  },
  {
   "cell_type": "code",
   "execution_count": null,
   "metadata": {},
   "outputs": [],
   "source": [
    "# --- Train the model\n",
    "model.fit_generator(\n",
    "    generator=gen_train,\n",
    "    steps_per_epoch=250,\n",
    "    epochs=4)"
   ]
  },
  {
   "cell_type": "markdown",
   "metadata": {},
   "source": [
    "# Prediction\n",
    "\n",
    "How did we do? The validation performance metrics (accuracy, Dice score) give us a reasonable benchmark, but the most important thing to do at the end of the day is to visually check some examples for yourself. Let us pass some validation data manually into the model using the `model.predict()` method and see some results:"
   ]
  },
  {
   "cell_type": "code",
   "execution_count": null,
   "metadata": {},
   "outputs": [],
   "source": [
    "# --- Load data and preproces\n",
    "arrays = client.get()\n",
    "\n",
    "# --- Run prediction\n",
    "pred = model.predict({k: np.expand_dims(v, axis=0) for k, v in arrays['xs'].items()})\n",
    "mask = mask_from_coords(z=0, y=pred[0], x=pred[1])\n",
    "\n",
    "# --- Show prediction\n",
    "imshow(arrays['xs']['dat'], mask)"
   ]
  },
  {
   "cell_type": "markdown",
   "metadata": {},
   "source": [
    "## Saving and Loading a Model\n",
    "\n",
    "After a model has been successfully trained, it can be saved and/or loaded by simply using the `model.save()` and `models.load_model()` methods. Note that any custom losses and/or metrics will need to be provided via a dictionary."
   ]
  },
  {
   "cell_type": "code",
   "execution_count": null,
   "metadata": {},
   "outputs": [],
   "source": [
    "# --- Serialize a model\n",
    "os.makedirs('./models', exist_ok=True)\n",
    "model.save('./models/regression.hdf5')"
   ]
  },
  {
   "cell_type": "code",
   "execution_count": null,
   "metadata": {},
   "outputs": [],
   "source": [
    "# --- Load a serialized model\n",
    "model = models.load_model('./models/regression.hdf5', compile=False)"
   ]
  }
 ],
 "metadata": {
  "kernelspec": {
   "display_name": "Python 3",
   "language": "python",
   "name": "python3"
  },
  "language_info": {
   "codemirror_mode": {
    "name": "ipython",
    "version": 3
   },
   "file_extension": ".py",
   "mimetype": "text/x-python",
   "name": "python",
   "nbconvert_exporter": "python",
   "pygments_lexer": "ipython3",
   "version": "3.6.10"
  }
 },
 "nbformat": 4,
 "nbformat_minor": 4
}
